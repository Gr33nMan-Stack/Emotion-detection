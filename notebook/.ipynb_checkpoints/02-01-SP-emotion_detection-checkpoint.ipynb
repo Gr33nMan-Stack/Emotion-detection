{
 "cells": [
  {
   "cell_type": "markdown",
   "metadata": {},
   "source": [
    "# Emotion Detection Project\n",
    "\n",
    "## Importing required libraries"
   ]
  },
  {
   "cell_type": "code",
   "execution_count": 88,
   "metadata": {},
   "outputs": [],
   "source": [
    "import pandas as pd\n",
    "import numpy as np\n",
    "import matplotlib\n",
    "import matplotlib.pyplot as plt\n",
    "import nltk\n",
    "import plotly\n",
    "import cufflinks as cf\n",
    "from textblob import TextBlob\n",
    "matplotlib.rcParams.update({'font.size': 22})"
   ]
  },
  {
   "cell_type": "code",
   "execution_count": 2,
   "metadata": {},
   "outputs": [
    {
     "name": "stderr",
     "output_type": "stream",
     "text": [
      "[nltk_data] Downloading package punkt to /home/gr33n/nltk_data...\n",
      "[nltk_data]   Package punkt is already up-to-date!\n",
      "[nltk_data] Downloading package stopwords to /home/gr33n/nltk_data...\n",
      "[nltk_data]   Package stopwords is already up-to-date!\n",
      "[nltk_data] Downloading package wordnet to /home/gr33n/nltk_data...\n",
      "[nltk_data]   Package wordnet is already up-to-date!\n"
     ]
    },
    {
     "data": {
      "text/plain": [
       "True"
      ]
     },
     "execution_count": 2,
     "metadata": {},
     "output_type": "execute_result"
    }
   ],
   "source": [
    "nltk.download('punkt')\n",
    "nltk.download('stopwords')\n",
    "nltk.download('wordnet')"
   ]
  },
  {
   "cell_type": "code",
   "execution_count": 89,
   "metadata": {},
   "outputs": [
    {
     "data": {
      "text/html": [
       "        <script type=\"text/javascript\">\n",
       "        window.PlotlyConfig = {MathJaxConfig: 'local'};\n",
       "        if (window.MathJax) {MathJax.Hub.Config({SVG: {font: \"STIX-Web\"}});}\n",
       "        if (typeof require !== 'undefined') {\n",
       "        require.undef(\"plotly\");\n",
       "        requirejs.config({\n",
       "            paths: {\n",
       "                'plotly': ['https://cdn.plot.ly/plotly-latest.min']\n",
       "            }\n",
       "        });\n",
       "        require(['plotly'], function(Plotly) {\n",
       "            window._Plotly = Plotly;\n",
       "        });\n",
       "        }\n",
       "        </script>\n",
       "        "
      ]
     },
     "metadata": {},
     "output_type": "display_data"
    }
   ],
   "source": [
    "cf.go_offline()\n",
    "cf.set_config_file(offline=False, world_readable=True)"
   ]
  },
  {
   "cell_type": "markdown",
   "metadata": {},
   "source": [
    "## Loading the dataset and EDA"
   ]
  },
  {
   "cell_type": "code",
   "execution_count": 3,
   "metadata": {},
   "outputs": [
    {
     "data": {
      "text/plain": [
       "'I feel guilty when when I realize that I consider material things  \\nmore important than caring for my relatives.  I feel very  \\nself-centered.'"
      ]
     },
     "execution_count": 3,
     "metadata": {},
     "output_type": "execute_result"
    }
   ],
   "source": [
    "dataset = pd.read_csv(\"../ml/data/external/ISEAR_dataset.csv\", header=None)\n",
    "dataset[2][6]"
   ]
  },
  {
   "cell_type": "code",
   "execution_count": 4,
   "metadata": {},
   "outputs": [],
   "source": [
    "# Dropping the 1st column\n",
    "dataset_modified = dataset.drop(columns=[0], axis=1)\n",
    "\n",
    "# Adding column_names to the dataframe\n",
    "dataset_modified.columns = ['emotion', 'sentences']"
   ]
  },
  {
   "cell_type": "code",
   "execution_count": 5,
   "metadata": {},
   "outputs": [
    {
     "name": "stdout",
     "output_type": "stream",
     "text": [
      "<class 'pandas.core.frame.DataFrame'>\n",
      "RangeIndex: 7446 entries, 0 to 7445\n",
      "Data columns (total 2 columns):\n",
      " #   Column     Non-Null Count  Dtype \n",
      "---  ------     --------------  ----- \n",
      " 0   emotion    7446 non-null   object\n",
      " 1   sentences  7446 non-null   object\n",
      "dtypes: object(2)\n",
      "memory usage: 116.5+ KB\n"
     ]
    }
   ],
   "source": [
    "# Information on the dataset\n",
    "dataset_modified.info()\n",
    "\n",
    "# About 7500 samples"
   ]
  },
  {
   "cell_type": "code",
   "execution_count": 6,
   "metadata": {},
   "outputs": [
    {
     "data": {
      "text/plain": [
       "joy        1082\n",
       "sadness    1074\n",
       "anger      1069\n",
       "fear       1063\n",
       "shame      1059\n",
       "disgust    1059\n",
       "guilt      1040\n",
       "Name: emotion, dtype: int64"
      ]
     },
     "execution_count": 6,
     "metadata": {},
     "output_type": "execute_result"
    }
   ],
   "source": [
    "# count of each emotion; check for imbalanced dataset.\n",
    "dataset_modified['emotion'].value_counts()\n",
    "\n",
    "# Seems balanced"
   ]
  },
  {
   "cell_type": "code",
   "execution_count": 7,
   "metadata": {},
   "outputs": [
    {
     "data": {
      "text/plain": [
       "emotion      0\n",
       "sentences    0\n",
       "dtype: int64"
      ]
     },
     "execution_count": 7,
     "metadata": {},
     "output_type": "execute_result"
    }
   ],
   "source": [
    "# checking missing values\n",
    "dataset_modified.isnull().sum()\n",
    "\n",
    "# No null values"
   ]
  },
  {
   "cell_type": "markdown",
   "metadata": {},
   "source": [
    "## Visualization"
   ]
  },
  {
   "cell_type": "code",
   "execution_count": null,
   "metadata": {},
   "outputs": [],
   "source": [
    "def get_top_n_words(corpus, n=None):\n",
    "    vec = CountVectorizer(ngram_range=(2,2)).fit(corpus)\n",
    "    bag_of_words = vec.transform(corpus)\n",
    "    sum_words = bag_of_words.sum(axis=0) \n",
    "    words_freq = [(word, sum_words[0, idx]) for word, idx in vec.vocabulary_.items()]\n",
    "    words_freq =sorted(words_freq, key = lambda x: x[1], reverse=True)\n",
    "    return words_freq[:n]\n"
   ]
  },
  {
   "cell_type": "code",
   "execution_count": null,
   "metadata": {},
   "outputs": [],
   "source": [
    "common_words = get_top_n_words(dataset_modified['preprocessed_sentences'], 20)\n",
    "for word, freq in common_words:\n",
    "    print(word, freq)\n",
    "df1 = pd.DataFrame(common_words, columns = ['Sentences' , 'count'])\n",
    "plt.figure(figsize=(15,10))\n",
    "df1.groupby('Sentences').sum()['count'].sort_values(ascending=False).plot(\n",
    "    kind='bar')\n",
    "\n",
    "plt.xlabel('Processed_word_bigram')\n",
    "plt.xticks(rotation=-45)\n",
    "plt.savefig('Bigram_preprocessed__word_count.png')\n",
    "plt.show()"
   ]
  },
  {
   "cell_type": "markdown",
   "metadata": {},
   "source": [
    "## Preprocessing the sentences (An alternative option)\n",
    "\n",
    "```Trying with 5 emotions```\n",
    "\n",
    "There are 7 unique emotions present in the dataset, ```joy, sadness, anger, fear, digust, shame, and guilt```Since, the client stated to have 5 emotions. Let's replace ```shame``` with ```fear``` and ```guilt``` with ```sadness```.\n"
   ]
  },
  {
   "cell_type": "code",
   "execution_count": 8,
   "metadata": {},
   "outputs": [],
   "source": [
    "dataset_modified['new_emotion'] = dataset_modified['emotion'].replace({'shame': 'fear',\n",
    "                                                     'guilt':'sadness'})"
   ]
  },
  {
   "cell_type": "code",
   "execution_count": 9,
   "metadata": {},
   "outputs": [
    {
     "data": {
      "text/plain": [
       "Text(0, 0.5, 'Counts')"
      ]
     },
     "execution_count": 9,
     "metadata": {},
     "output_type": "execute_result"
    },
    {
     "data": {
      "image/png": "[encoded data removed]",
      "text/plain": [
       "<Figure size 1080x720 with 1 Axes>"
      ]
     },
     "metadata": {},
     "output_type": "display_data"
    }
   ],
   "source": [
    "plt.figure(figsize=(15,10))\n",
    "dataset_modified['new_emotion'].value_counts().plot(kind='bar')\n",
    "plt.title('Count of each target label')\n",
    "plt.xlabel('new_emotions')\n",
    "plt.ylabel('Counts')"
   ]
  },
  {
   "cell_type": "code",
   "execution_count": 10,
   "metadata": {},
   "outputs": [
    {
     "data": {
      "text/plain": [
       "'Every time I imagine that someone I love or I could contact a  \\nserious illness, even death.'"
      ]
     },
     "execution_count": 10,
     "metadata": {},
     "output_type": "execute_result"
    }
   ],
   "source": [
    "dataset_modified['sentences'][1]"
   ]
  },
  {
   "cell_type": "markdown",
   "metadata": {},
   "source": [
    "### Converting into lowercase.\n",
    "\n",
    "Converting to lowercase is important as ```On``` is different from ```on``` for computers but not us humans. Just for keeping the original columns, let's make a copy of the sentences column.\n",
    "\n",
    "__Note__: This also removes the ```\\n``` or ```enters``` in the sentences."
   ]
  },
  {
   "cell_type": "code",
   "execution_count": 11,
   "metadata": {},
   "outputs": [],
   "source": [
    "dataset_modified['preprocessed_sentences'] = dataset_modified['sentences']"
   ]
  },
  {
   "cell_type": "code",
   "execution_count": 12,
   "metadata": {},
   "outputs": [],
   "source": [
    "# converting to lower case.\n",
    "dataset_modified['preprocessed_sentences'] = dataset_modified['preprocessed_sentences'].apply(lambda x: ' '.join\\\n",
    "                                        (x.lower() for x in x.split()))"
   ]
  },
  {
   "cell_type": "code",
   "execution_count": 13,
   "metadata": {},
   "outputs": [
    {
     "data": {
      "text/plain": [
       "'every time i imagine that someone i love or i could contact a serious illness, even death.'"
      ]
     },
     "execution_count": 13,
     "metadata": {},
     "output_type": "execute_result"
    }
   ],
   "source": [
    "dataset_modified['preprocessed_sentences'][1]"
   ]
  },
  {
   "cell_type": "markdown",
   "metadata": {},
   "source": [
    "### Removing non-alphanumeric portions\n",
    "\n",
    "```. and ,``` is present in the sentences. Removing them."
   ]
  },
  {
   "cell_type": "code",
   "execution_count": 14,
   "metadata": {},
   "outputs": [],
   "source": [
    "# removing symbols\n",
    "dataset_modified['preprocessed_sentences'] = dataset_modified['preprocessed_sentences'] \\\n",
    "                                                .str.replace('.', '')\n",
    "dataset_modified['preprocessed_sentences'] = dataset_modified['preprocessed_sentences'] \\\n",
    "                                                .str.replace(',', ' ')"
   ]
  },
  {
   "cell_type": "markdown",
   "metadata": {},
   "source": [
    "## Tokenization\n",
    "\n",
    "Converting the sentences in token of words through, which words are identified, seperated and classified. This also allows easier accesibility for later preprocessing."
   ]
  },
  {
   "cell_type": "code",
   "execution_count": 15,
   "metadata": {},
   "outputs": [],
   "source": [
    "from nltk.tokenize import word_tokenize"
   ]
  },
  {
   "cell_type": "code",
   "execution_count": 16,
   "metadata": {},
   "outputs": [],
   "source": [
    "dataset_modified['preprocessed_sentences'] = dataset_modified['preprocessed_sentences'] \\\n",
    "                                                .apply(word_tokenize)"
   ]
  },
  {
   "cell_type": "code",
   "execution_count": 17,
   "metadata": {},
   "outputs": [
    {
     "data": {
      "text/plain": [
       "['every',\n",
       " 'time',\n",
       " 'i',\n",
       " 'imagine',\n",
       " 'that',\n",
       " 'someone',\n",
       " 'i',\n",
       " 'love',\n",
       " 'or',\n",
       " 'i',\n",
       " 'could',\n",
       " 'contact',\n",
       " 'a',\n",
       " 'serious',\n",
       " 'illness',\n",
       " 'even',\n",
       " 'death']"
      ]
     },
     "execution_count": 17,
     "metadata": {},
     "output_type": "execute_result"
    }
   ],
   "source": [
    "dataset_modified['preprocessed_sentences'][1]"
   ]
  },
  {
   "cell_type": "markdown",
   "metadata": {},
   "source": [
    "## Removing Stop Words\n",
    "\n",
    "Frequently occuring words such as articles ```I, you```  and some verbs might help in finding the context of the sentence. Removing them mightn't have any negative consequences."
   ]
  },
  {
   "cell_type": "code",
   "execution_count": 18,
   "metadata": {},
   "outputs": [],
   "source": [
    "from nltk.corpus import stopwords\n",
    "stop_words = stopwords.words(\"english\")"
   ]
  },
  {
   "cell_type": "code",
   "execution_count": 19,
   "metadata": {},
   "outputs": [],
   "source": [
    "dataset_modified['preprocessed_sentences'] = dataset_modified['preprocessed_sentences'] \\\n",
    "                                                .apply(lambda x: [token for token in x if token not in stop_words])"
   ]
  },
  {
   "cell_type": "code",
   "execution_count": 20,
   "metadata": {},
   "outputs": [
    {
     "data": {
      "text/plain": [
       "['every',\n",
       " 'time',\n",
       " 'imagine',\n",
       " 'someone',\n",
       " 'love',\n",
       " 'could',\n",
       " 'contact',\n",
       " 'serious',\n",
       " 'illness',\n",
       " 'even',\n",
       " 'death']"
      ]
     },
     "execution_count": 20,
     "metadata": {},
     "output_type": "execute_result"
    }
   ],
   "source": [
    "dataset_modified['preprocessed_sentences'][1]"
   ]
  },
  {
   "cell_type": "markdown",
   "metadata": {},
   "source": [
    "### Lemmatization for word normalization\n",
    "\n",
    "Converting verbs into base form."
   ]
  },
  {
   "cell_type": "code",
   "execution_count": 21,
   "metadata": {},
   "outputs": [],
   "source": [
    "lemmatizer = nltk.stem.WordNetLemmatizer()"
   ]
  },
  {
   "cell_type": "code",
   "execution_count": 22,
   "metadata": {},
   "outputs": [],
   "source": [
    "dataset_modified['preprocessed_sentences'] = dataset_modified['preprocessed_sentences'] \\\n",
    "                                            .apply(lambda x: [lemmatizer.lemmatize(token, pos =\"s\") for token in x])"
   ]
  },
  {
   "cell_type": "code",
   "execution_count": 23,
   "metadata": {},
   "outputs": [
    {
     "data": {
      "text/plain": [
       "['obviously', 'unjustly', 'treated', 'possibility', 'elucidating']"
      ]
     },
     "execution_count": 23,
     "metadata": {},
     "output_type": "execute_result"
    }
   ],
   "source": [
    "dataset_modified['preprocessed_sentences'][2]"
   ]
  },
  {
   "cell_type": "code",
   "execution_count": 24,
   "metadata": {},
   "outputs": [
    {
     "name": "stdout",
     "output_type": "stream",
     "text": [
      "rocks : good\n"
     ]
    }
   ],
   "source": [
    "print(\"rocks :\", lemmatizer.lemmatize(\"better\", pos =\"a\")) "
   ]
  },
  {
   "cell_type": "code",
   "execution_count": 25,
   "metadata": {},
   "outputs": [],
   "source": [
    "dataset_modified['preprocessed_sentences'] = dataset_modified['preprocessed_sentences'].apply(lambda x: ' '.join(x))"
   ]
  },
  {
   "cell_type": "markdown",
   "metadata": {},
   "source": [
    "### Label encoding the target emotions"
   ]
  },
  {
   "cell_type": "code",
   "execution_count": 26,
   "metadata": {},
   "outputs": [],
   "source": [
    "from sklearn.preprocessing import OrdinalEncoder\n",
    "\n",
    "encoder = OrdinalEncoder()"
   ]
  },
  {
   "cell_type": "code",
   "execution_count": 27,
   "metadata": {},
   "outputs": [],
   "source": [
    "dataset_modified['target'] = encoder.fit_transform(np.array(dataset_modified['new_emotion']).reshape(-1,1))"
   ]
  },
  {
   "cell_type": "code",
   "execution_count": 98,
   "metadata": {},
   "outputs": [],
   "source": [
    "dataset_modified['polarity'] = dataset_modified['sentences'].map(lambda text: TextBlob(text).sentiment.polarity)\n",
    "dataset_modified['review_len'] = dataset_modified['sentences'].astype(str).apply(len)\n",
    "dataset_modified['word_count'] = dataset_modified['sentences'].apply(lambda x: len(str(x).split()))"
   ]
  },
  {
   "cell_type": "code",
   "execution_count": 122,
   "metadata": {},
   "outputs": [
    {
     "data": {
      "text/plain": [
       "'When my partner was attacked and lost three teeth.'"
      ]
     },
     "execution_count": 122,
     "metadata": {},
     "output_type": "execute_result"
    }
   ],
   "source": [
    "dataset_modified[dataset_modified['review_len']==50]['sentences'][26]"
   ]
  },
  {
   "cell_type": "code",
   "execution_count": null,
   "metadata": {},
   "outputs": [],
   "source": [
    "plt.figure(figsize=(15,10))\n",
    "dataset_modified['polarity'].plot(\n",
    "    kind='hist',\n",
    "    bins=50)\n",
    "plt.xlabel('sentiment level')\n",
    "plt.savefig('sentiment_level.png')\n",
    "plt.show()\n"
   ]
  },
  {
   "cell_type": "code",
   "execution_count": 103,
   "metadata": {},
   "outputs": [
    {
     "data": {
      "image/png": "[encoded data removed]",
      "text/plain": [
       "<Figure size 1080x720 with 1 Axes>"
      ]
     },
     "metadata": {},
     "output_type": "display_data"
    }
   ],
   "source": [
    "plt.figure(figsize=(15,10))\n",
    "dataset_modified['review_len'].plot(\n",
    "    kind='hist',\n",
    "    bins=100)\n",
    "plt.xlabel('Document_length')\n",
    "plt.savefig('Review_length.png')\n",
    "plt.show()\n"
   ]
  },
  {
   "cell_type": "code",
   "execution_count": 117,
   "metadata": {},
   "outputs": [
    {
     "data": {
      "image/png": "[encoded data removed]",
      "text/plain": [
       "<Figure size 1080x720 with 1 Axes>"
      ]
     },
     "metadata": {},
     "output_type": "display_data"
    }
   ],
   "source": [
    "plt.figure(figsize=(15,10))\n",
    "dataset_modified['word_count'].plot(\n",
    "    kind='hist',\n",
    "    bins=100)\n",
    "plt.xlabel('Word_count')\n",
    "plt.savefig('word.png')\n",
    "plt.show()\n"
   ]
  },
  {
   "cell_type": "markdown",
   "metadata": {},
   "source": [
    "## Baseline model training step(Count Vectorizer with Naive bayes)\n"
   ]
  },
  {
   "cell_type": "code",
   "execution_count": 53,
   "metadata": {},
   "outputs": [],
   "source": [
    "from sklearn.feature_extraction.text import CountVectorizer\n",
    "from sklearn.naive_bayes import MultinomialNB\n",
    "from sklearn.svm import SVC\n",
    "from sklearn.linear_model import LogisticRegression\n",
    "from sklearn.pipeline import Pipeline\n",
    "from sklearn.metrics import precision_recall_fscore_support\n",
    "MultinomialNB()\n",
    "naive_bayes_model = Pipeline([('count_vectorizer', CountVectorizer(ngram_range=(1,2))), ('bayes', LogisticRegression(penalty='l1', solver='liblinear'))])"
   ]
  },
  {
   "cell_type": "markdown",
   "metadata": {},
   "source": [
    "### Train_test_split"
   ]
  },
  {
   "cell_type": "code",
   "execution_count": 72,
   "metadata": {},
   "outputs": [],
   "source": [
    "from sklearn.model_selection import train_test_split\n",
    "\n",
    "X_train, X_test, y_train, y_test = train_test_split(dataset_modified['preprocessed_sentences'], \n",
    "                                                    dataset_modified['target'], \n",
    "                                                    test_size=0.2)\n",
    "\n",
    "count_vector = CountVectorizer(ngram_range=(1,2))"
   ]
  },
  {
   "cell_type": "code",
   "execution_count": 55,
   "metadata": {},
   "outputs": [
    {
     "data": {
      "text/plain": [
       "Pipeline(memory=None,\n",
       "         steps=[('count_vectorizer',\n",
       "                 CountVectorizer(analyzer='word', binary=False,\n",
       "                                 decode_error='strict',\n",
       "                                 dtype=<class 'numpy.int64'>, encoding='utf-8',\n",
       "                                 input='content', lowercase=True, max_df=1.0,\n",
       "                                 max_features=None, min_df=1,\n",
       "                                 ngram_range=(1, 2), preprocessor=None,\n",
       "                                 stop_words=None, strip_accents=None,\n",
       "                                 token_pattern='(?u)\\\\b\\\\w\\\\w+\\\\b',\n",
       "                                 tokenizer=None, vocabulary=None)),\n",
       "                ('bayes',\n",
       "                 LogisticRegression(C=1.0, class_weight=None, dual=False,\n",
       "                                    fit_intercept=True, intercept_scaling=1,\n",
       "                                    l1_ratio=None, max_iter=100,\n",
       "                                    multi_class='auto', n_jobs=None,\n",
       "                                    penalty='l1', random_state=None,\n",
       "                                    solver='liblinear', tol=0.0001, verbose=0,\n",
       "                                    warm_start=False))],\n",
       "         verbose=False)"
      ]
     },
     "execution_count": 55,
     "metadata": {},
     "output_type": "execute_result"
    }
   ],
   "source": [
    "naive_bayes_model.fit(X_train, y_train)"
   ]
  },
  {
   "cell_type": "code",
   "execution_count": 56,
   "metadata": {},
   "outputs": [],
   "source": [
    "test_label = naive_bayes_model.predict(X_test)\n",
    "train_label = naive_bayes_model.predict(X_train)"
   ]
  },
  {
   "cell_type": "code",
   "execution_count": 57,
   "metadata": {},
   "outputs": [
    {
     "name": "stdout",
     "output_type": "stream",
     "text": [
      "*************************Training*************************\n",
      "              precision    recall  f1-score   support\n",
      "\n",
      "         0.0      0.839     0.745     0.789       867\n",
      "         1.0      0.878     0.754     0.811       847\n",
      "         2.0      0.819     0.852     0.835      1680\n",
      "         3.0      0.884     0.843     0.863       859\n",
      "         4.0      0.782     0.868     0.822      1703\n",
      "\n",
      "    accuracy                          0.826      5956\n",
      "   macro avg      0.840     0.813     0.824      5956\n",
      "weighted avg      0.829     0.826     0.826      5956\n",
      "\n",
      "*************************Testing*************************\n",
      "              precision    recall  f1-score   support\n",
      "\n",
      "         0.0      0.465     0.356     0.403       202\n",
      "         1.0      0.644     0.571     0.605       212\n",
      "         2.0      0.635     0.618     0.626       442\n",
      "         3.0      0.707     0.682     0.694       223\n",
      "         4.0      0.582     0.710     0.640       411\n",
      "\n",
      "    accuracy                          0.611      1490\n",
      "   macro avg      0.606     0.587     0.594      1490\n",
      "weighted avg      0.609     0.611     0.607      1490\n",
      "\n"
     ]
    }
   ],
   "source": [
    "from sklearn import metrics\n",
    "print('*'*25 + 'Training' + '*'*25)\n",
    "print(metrics.classification_report(y_train, train_label, digits=3))\n",
    "print('*'*25 + 'Testing' + '*'*25)\n",
    "print(metrics.classification_report(y_test, test_label, digits=3))\n"
   ]
  },
  {
   "cell_type": "code",
   "execution_count": 61,
   "metadata": {},
   "outputs": [
    {
     "data": {
      "image/png": "[encoded data removed]",
      "text/plain": [
       "<Figure size 864x576 with 2 Axes>"
      ]
     },
     "metadata": {},
     "output_type": "display_data"
    }
   ],
   "source": [
    "import seaborn as sns\n",
    "import matplotlib.pyplot as plt\n",
    "\n",
    "from sklearn.metrics import confusion_matrix\n",
    "confusion_mat_test = confusion_matrix(y_test, test_label)\n",
    "\n",
    "plt.figure(figsize=(12,8))\n",
    "ax = sns.heatmap(confusion_mat_test.T, square=True, annot=True, fmt='d', cbar=True)\n",
    "ax.set_xticklabels(list(encoder.categories_[0]))\n",
    "ax.set_yticklabels(list(encoder.categories_[0]))\n",
    "plt.title('Softmax - test set')\n",
    "plt.xlabel('Predicted')\n",
    "plt.ylabel('Actual')\n",
    "plt.savefig('_test_heatmap.png')\n"
   ]
  },
  {
   "cell_type": "code",
   "execution_count": 73,
   "metadata": {},
   "outputs": [],
   "source": [
    "count1 = count_vector.fit_transform(dataset_modified['preprocessed_sentences']).toarray()"
   ]
  },
  {
   "cell_type": "code",
   "execution_count": 74,
   "metadata": {},
   "outputs": [],
   "source": [
    "count = count_vector.get_feature_names()"
   ]
  },
  {
   "cell_type": "code",
   "execution_count": 75,
   "metadata": {},
   "outputs": [
    {
     "data": {
      "text/plain": [
       "(7446, 60025)"
      ]
     },
     "execution_count": 75,
     "metadata": {},
     "output_type": "execute_result"
    }
   ],
   "source": [
    "count1.shape"
   ]
  },
  {
   "cell_type": "markdown",
   "metadata": {},
   "source": []
  },
  {
   "cell_type": "code",
   "execution_count": 153,
   "metadata": {},
   "outputs": [],
   "source": []
  },
  {
   "cell_type": "code",
   "execution_count": 154,
   "metadata": {},
   "outputs": [
    {
     "name": "stdout",
     "output_type": "stream",
     "text": [
      "friend mine 173\n",
      "felt guilty 134\n",
      "one day 132\n",
      "long time 95\n",
      "close friend 92\n",
      "first time 91\n",
      "felt ashamed 85\n",
      "felt sad 69\n",
      "one night 63\n",
      "passed away 57\n",
      "years old 56\n",
      "best friend 54\n",
      "good friend 51\n",
      "secondary school 51\n",
      "felt disgusted 45\n",
      "years ago 41\n",
      "car accident 39\n",
      "got angry 36\n",
      "made feel 35\n",
      "next day 34\n"
     ]
    },
    {
     "data": {
      "image/png": "[encoded data removed]",
      "text/plain": [
       "<Figure size 1080x720 with 1 Axes>"
      ]
     },
     "metadata": {},
     "output_type": "display_data"
    }
   ],
   "source": []
  },
  {
   "cell_type": "code",
   "execution_count": null,
   "metadata": {},
   "outputs": [],
   "source": []
  },
  {
   "cell_type": "code",
   "execution_count": null,
   "metadata": {},
   "outputs": [],
   "source": []
  }
 ],
 "metadata": {
  "kernelspec": {
   "display_name": "Python 3",
   "language": "python",
   "name": "python3"
  },
  "language_info": {
   "codemirror_mode": {
    "name": "ipython",
    "version": 3
   },
   "file_extension": ".py",
   "mimetype": "text/x-python",
   "name": "python",
   "nbconvert_exporter": "python",
   "pygments_lexer": "ipython3",
   "version": "3.6.9"
  }
 },
 "nbformat": 4,
 "nbformat_minor": 4
}
