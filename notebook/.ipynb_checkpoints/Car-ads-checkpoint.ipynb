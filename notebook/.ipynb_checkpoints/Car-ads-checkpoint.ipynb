{
 "cells": [
  {
   "cell_type": "markdown",
   "metadata": {},
   "source": [
    "### Introduction\n",
    "In this task, we have Car-Ads dataset from kaggle. The dataset has 16 unique columns - features and almost 3.5 Million rows. Our task is to build a model which will predict the price of the car in euros with the help of these 16 features."
   ]
  },
  {
   "cell_type": "markdown",
   "metadata": {},
   "source": [
    "### Importing important libraries"
   ]
  },
  {
   "cell_type": "code",
   "execution_count": 2,
   "metadata": {},
   "outputs": [],
   "source": [
    "import numpy as np\n",
    "import pandas as pd\n",
    "import matplotlib.pyplot as plt\n",
    "import seaborn as sns\n",
    "\n",
    "from sklearn.impute import SimpleImputer"
   ]
  },
  {
   "cell_type": "markdown",
   "metadata": {},
   "source": [
    "### Loading the dataset "
   ]
  },
  {
   "cell_type": "code",
   "execution_count": 99,
   "metadata": {},
   "outputs": [],
   "source": [
    "df = pd.read_csv(\"personal-cars-classifieds/all_anonymized_2015_11_2017_03.csv\")"
   ]
  },
  {
   "cell_type": "code",
   "execution_count": 100,
   "metadata": {},
   "outputs": [
    {
     "data": {
      "text/html": [
       "<div>\n",
       "<style scoped>\n",
       "    .dataframe tbody tr th:only-of-type {\n",
       "        vertical-align: middle;\n",
       "    }\n",
       "\n",
       "    .dataframe tbody tr th {\n",
       "        vertical-align: top;\n",
       "    }\n",
       "\n",
       "    .dataframe thead th {\n",
       "        text-align: right;\n",
       "    }\n",
       "</style>\n",
       "<table border=\"1\" class=\"dataframe\">\n",
       "  <thead>\n",
       "    <tr style=\"text-align: right;\">\n",
       "      <th></th>\n",
       "      <th>maker</th>\n",
       "      <th>model</th>\n",
       "      <th>mileage</th>\n",
       "      <th>manufacture_year</th>\n",
       "      <th>engine_displacement</th>\n",
       "      <th>engine_power</th>\n",
       "      <th>body_type</th>\n",
       "      <th>color_slug</th>\n",
       "      <th>stk_year</th>\n",
       "      <th>transmission</th>\n",
       "      <th>door_count</th>\n",
       "      <th>seat_count</th>\n",
       "      <th>fuel_type</th>\n",
       "      <th>date_created</th>\n",
       "      <th>date_last_seen</th>\n",
       "      <th>price_eur</th>\n",
       "    </tr>\n",
       "  </thead>\n",
       "  <tbody>\n",
       "    <tr>\n",
       "      <th>0</th>\n",
       "      <td>ford</td>\n",
       "      <td>galaxy</td>\n",
       "      <td>151000.0</td>\n",
       "      <td>2011.0</td>\n",
       "      <td>2000.0</td>\n",
       "      <td>103.0</td>\n",
       "      <td>NaN</td>\n",
       "      <td>NaN</td>\n",
       "      <td>None</td>\n",
       "      <td>man</td>\n",
       "      <td>5</td>\n",
       "      <td>7</td>\n",
       "      <td>diesel</td>\n",
       "      <td>2015-11-14 18:10:06.838319+00</td>\n",
       "      <td>2016-01-27 20:40:15.46361+00</td>\n",
       "      <td>10584.75</td>\n",
       "    </tr>\n",
       "    <tr>\n",
       "      <th>1</th>\n",
       "      <td>skoda</td>\n",
       "      <td>octavia</td>\n",
       "      <td>143476.0</td>\n",
       "      <td>2012.0</td>\n",
       "      <td>2000.0</td>\n",
       "      <td>81.0</td>\n",
       "      <td>NaN</td>\n",
       "      <td>NaN</td>\n",
       "      <td>None</td>\n",
       "      <td>man</td>\n",
       "      <td>5</td>\n",
       "      <td>5</td>\n",
       "      <td>diesel</td>\n",
       "      <td>2015-11-14 18:10:06.853411+00</td>\n",
       "      <td>2016-01-27 20:40:15.46361+00</td>\n",
       "      <td>8882.31</td>\n",
       "    </tr>\n",
       "    <tr>\n",
       "      <th>2</th>\n",
       "      <td>bmw</td>\n",
       "      <td>NaN</td>\n",
       "      <td>97676.0</td>\n",
       "      <td>2010.0</td>\n",
       "      <td>1995.0</td>\n",
       "      <td>85.0</td>\n",
       "      <td>NaN</td>\n",
       "      <td>NaN</td>\n",
       "      <td>None</td>\n",
       "      <td>man</td>\n",
       "      <td>5</td>\n",
       "      <td>5</td>\n",
       "      <td>diesel</td>\n",
       "      <td>2015-11-14 18:10:06.861792+00</td>\n",
       "      <td>2016-01-27 20:40:15.46361+00</td>\n",
       "      <td>12065.06</td>\n",
       "    </tr>\n",
       "    <tr>\n",
       "      <th>3</th>\n",
       "      <td>skoda</td>\n",
       "      <td>fabia</td>\n",
       "      <td>111970.0</td>\n",
       "      <td>2004.0</td>\n",
       "      <td>1200.0</td>\n",
       "      <td>47.0</td>\n",
       "      <td>NaN</td>\n",
       "      <td>NaN</td>\n",
       "      <td>None</td>\n",
       "      <td>man</td>\n",
       "      <td>5</td>\n",
       "      <td>5</td>\n",
       "      <td>gasoline</td>\n",
       "      <td>2015-11-14 18:10:06.872313+00</td>\n",
       "      <td>2016-01-27 20:40:15.46361+00</td>\n",
       "      <td>2960.77</td>\n",
       "    </tr>\n",
       "    <tr>\n",
       "      <th>4</th>\n",
       "      <td>skoda</td>\n",
       "      <td>fabia</td>\n",
       "      <td>128886.0</td>\n",
       "      <td>2004.0</td>\n",
       "      <td>1200.0</td>\n",
       "      <td>47.0</td>\n",
       "      <td>NaN</td>\n",
       "      <td>NaN</td>\n",
       "      <td>None</td>\n",
       "      <td>man</td>\n",
       "      <td>5</td>\n",
       "      <td>5</td>\n",
       "      <td>gasoline</td>\n",
       "      <td>2015-11-14 18:10:06.880335+00</td>\n",
       "      <td>2016-01-27 20:40:15.46361+00</td>\n",
       "      <td>2738.71</td>\n",
       "    </tr>\n",
       "  </tbody>\n",
       "</table>\n",
       "</div>"
      ],
      "text/plain": [
       "   maker    model   mileage  manufacture_year  engine_displacement  \\\n",
       "0   ford   galaxy  151000.0            2011.0               2000.0   \n",
       "1  skoda  octavia  143476.0            2012.0               2000.0   \n",
       "2    bmw      NaN   97676.0            2010.0               1995.0   \n",
       "3  skoda    fabia  111970.0            2004.0               1200.0   \n",
       "4  skoda    fabia  128886.0            2004.0               1200.0   \n",
       "\n",
       "   engine_power body_type color_slug stk_year transmission door_count  \\\n",
       "0         103.0       NaN        NaN     None          man          5   \n",
       "1          81.0       NaN        NaN     None          man          5   \n",
       "2          85.0       NaN        NaN     None          man          5   \n",
       "3          47.0       NaN        NaN     None          man          5   \n",
       "4          47.0       NaN        NaN     None          man          5   \n",
       "\n",
       "  seat_count fuel_type                   date_created  \\\n",
       "0          7    diesel  2015-11-14 18:10:06.838319+00   \n",
       "1          5    diesel  2015-11-14 18:10:06.853411+00   \n",
       "2          5    diesel  2015-11-14 18:10:06.861792+00   \n",
       "3          5  gasoline  2015-11-14 18:10:06.872313+00   \n",
       "4          5  gasoline  2015-11-14 18:10:06.880335+00   \n",
       "\n",
       "                 date_last_seen  price_eur  \n",
       "0  2016-01-27 20:40:15.46361+00   10584.75  \n",
       "1  2016-01-27 20:40:15.46361+00    8882.31  \n",
       "2  2016-01-27 20:40:15.46361+00   12065.06  \n",
       "3  2016-01-27 20:40:15.46361+00    2960.77  \n",
       "4  2016-01-27 20:40:15.46361+00    2738.71  "
      ]
     },
     "execution_count": 100,
     "metadata": {},
     "output_type": "execute_result"
    }
   ],
   "source": [
    "df.head()"
   ]
  },
  {
   "cell_type": "markdown",
   "metadata": {},
   "source": [
    "Let's see the data types of each column of the dataset. This will give us the intuition about whether we have to convert into single data types or not."
   ]
  },
  {
   "cell_type": "code",
   "execution_count": 101,
   "metadata": {},
   "outputs": [
    {
     "data": {
      "text/plain": [
       "maker                   object\n",
       "model                   object\n",
       "mileage                float64\n",
       "manufacture_year       float64\n",
       "engine_displacement    float64\n",
       "engine_power           float64\n",
       "body_type               object\n",
       "color_slug              object\n",
       "stk_year                object\n",
       "transmission            object\n",
       "door_count              object\n",
       "seat_count              object\n",
       "fuel_type               object\n",
       "date_created            object\n",
       "date_last_seen          object\n",
       "price_eur              float64\n",
       "dtype: object"
      ]
     },
     "execution_count": 101,
     "metadata": {},
     "output_type": "execute_result"
    }
   ],
   "source": [
    "df.dtypes"
   ]
  },
  {
   "cell_type": "markdown",
   "metadata": {},
   "source": [
    "From above table, we can see that apart from `mileage`, `manufacture_year`, `engine_displacement`, `engine_powe`, and `price_eur`, all columns have object type data types. It means we have to convert into only one type."
   ]
  },
  {
   "cell_type": "markdown",
   "metadata": {},
   "source": [
    "### Handling Missing Values"
   ]
  },
  {
   "cell_type": "markdown",
   "metadata": {},
   "source": [
    "Let's see how many missing values are present in each columns of the datasets by following."
   ]
  },
  {
   "cell_type": "code",
   "execution_count": 102,
   "metadata": {},
   "outputs": [
    {
     "data": {
      "text/plain": [
       "color_slug             3343411\n",
       "fuel_type              1847606\n",
       "stk_year               1708156\n",
       "model                  1133361\n",
       "body_type              1122914\n",
       "seat_count              749489\n",
       "engine_displacement     743414\n",
       "transmission            741630\n",
       "door_count              614373\n",
       "engine_power            554877\n",
       "maker                   518915\n",
       "manufacture_year        370578\n",
       "mileage                 362584\n",
       "price_eur                    0\n",
       "date_last_seen               0\n",
       "date_created                 0\n",
       "dtype: int64"
      ]
     },
     "execution_count": 102,
     "metadata": {},
     "output_type": "execute_result"
    }
   ],
   "source": [
    "df.isnull().sum().sort_values(ascending=False)"
   ]
  },
  {
   "cell_type": "markdown",
   "metadata": {},
   "source": [
    "From above, we are dropping `color_slug` feature column because it has more than 3 Million missing values. Here, we are dropping `date_last_seen` column also, because the date last seen the car doesn't affect the price of the car."
   ]
  },
  {
   "cell_type": "code",
   "execution_count": 103,
   "metadata": {},
   "outputs": [],
   "source": [
    "df = df.drop(['color_slug', 'date_last_seen'], axis=1)"
   ]
  },
  {
   "cell_type": "markdown",
   "metadata": {},
   "source": [
    "As we have seen object type columns. Now, let's convert `door_count` and `seat_count` columns into numerical one."
   ]
  },
  {
   "cell_type": "code",
   "execution_count": 104,
   "metadata": {},
   "outputs": [
    {
     "name": "stdout",
     "output_type": "stream",
     "text": [
      "5.0     777522\n",
      "4       636217\n",
      "4.0     494524\n",
      "None    475693\n",
      "2       164077\n",
      "2.0     143747\n",
      "5       116562\n",
      "3.0     106527\n",
      "3        14066\n",
      "0.0       8010\n",
      "6.0        906\n",
      "6          347\n",
      "1.0        259\n",
      "7.0         41\n",
      "1           14\n",
      "55.0         9\n",
      "9.0          4\n",
      "8.0          3\n",
      "58.0         3\n",
      "7            2\n",
      "17.0         1\n",
      "22.0         1\n",
      "49.0         1\n",
      "54.0         1\n",
      "77.0         1\n",
      "45.0         1\n",
      "Name: door_count, dtype: int64\n"
     ]
    }
   ],
   "source": [
    "print(df['door_count'].value_counts())"
   ]
  },
  {
   "cell_type": "code",
   "execution_count": 105,
   "metadata": {},
   "outputs": [],
   "source": [
    "df_sc = df['seat_count']\n",
    "df_dc = df['door_count']\n",
    "df_sc = df_sc.replace({'None':-1})\n",
    "df_dc = df_dc.replace({'None':-1})"
   ]
  },
  {
   "cell_type": "markdown",
   "metadata": {},
   "source": [
    "Now, convert each `door_count` and `seat_count` columns into floating type."
   ]
  },
  {
   "cell_type": "code",
   "execution_count": 106,
   "metadata": {},
   "outputs": [],
   "source": [
    "df_sc = df_sc.astype(float)\n",
    "df_dc = df_dc.astype(float)"
   ]
  },
  {
   "cell_type": "markdown",
   "metadata": {},
   "source": [
    "Again, replace `-1` values by missing values `np.nan` so that later it will be easier to replace with `fillna` function."
   ]
  },
  {
   "cell_type": "code",
   "execution_count": 107,
   "metadata": {},
   "outputs": [],
   "source": [
    "df_sc = df_sc.replace({-1: np.nan})\n",
    "df_dc = df_dc.replace({-1: np.nan})\n",
    "df['seat_count'] = df_sc\n",
    "df['door_count'] = df_dc"
   ]
  },
  {
   "cell_type": "markdown",
   "metadata": {},
   "source": [
    "We have converted `door_count` and `seat_count` columns into the floating type. Now, we will see the outliers in each columns and replace them."
   ]
  },
  {
   "cell_type": "code",
   "execution_count": 108,
   "metadata": {},
   "outputs": [
    {
     "data": {
      "text/plain": [
       "5.0      1767868\n",
       "4.0       244797\n",
       "7.0       100744\n",
       "2.0        72685\n",
       "3.0        33607\n",
       "6.0        14174\n",
       "9.0        12575\n",
       "0.0        11695\n",
       "8.0         6754\n",
       "1.0          567\n",
       "17.0          39\n",
       "10.0          35\n",
       "12.0          31\n",
       "14.0          19\n",
       "15.0          19\n",
       "18.0          16\n",
       "19.0          14\n",
       "21.0          13\n",
       "23.0          13\n",
       "45.0          13\n",
       "20.0          13\n",
       "13.0          10\n",
       "50.0           9\n",
       "16.0           9\n",
       "55.0           8\n",
       "11.0           8\n",
       "57.0           7\n",
       "51.0           7\n",
       "58.0           6\n",
       "56.0           5\n",
       "25.0           4\n",
       "54.0           4\n",
       "52.0           3\n",
       "24.0           3\n",
       "29.0           3\n",
       "81.0           3\n",
       "36.0           3\n",
       "53.0           3\n",
       "512.0          2\n",
       "74.0           2\n",
       "27.0           2\n",
       "49.0           2\n",
       "44.0           2\n",
       "33.0           2\n",
       "32.0           2\n",
       "30.0           2\n",
       "255.0          1\n",
       "43.0           1\n",
       "59.0           1\n",
       "61.0           1\n",
       "65.0           1\n",
       "22.0           1\n",
       "85.0           1\n",
       "517.0          1\n",
       "515.0          1\n",
       "138.0          1\n",
       "26.0           1\n",
       "Name: seat_count, dtype: int64"
      ]
     },
     "execution_count": 108,
     "metadata": {},
     "output_type": "execute_result"
    }
   ],
   "source": [
    "df['seat_count'].value_counts()"
   ]
  },
  {
   "cell_type": "code",
   "execution_count": 109,
   "metadata": {},
   "outputs": [
    {
     "data": {
      "text/plain": [
       "4.0     1130741\n",
       "5.0      894084\n",
       "2.0      307824\n",
       "3.0      120593\n",
       "0.0        8010\n",
       "6.0        1253\n",
       "1.0         273\n",
       "7.0          43\n",
       "55.0          9\n",
       "9.0           4\n",
       "8.0           3\n",
       "58.0          3\n",
       "22.0          1\n",
       "17.0          1\n",
       "77.0          1\n",
       "45.0          1\n",
       "49.0          1\n",
       "54.0          1\n",
       "Name: door_count, dtype: int64"
      ]
     },
     "execution_count": 109,
     "metadata": {},
     "output_type": "execute_result"
    }
   ],
   "source": [
    "df['door_count'].value_counts()"
   ]
  },
  {
   "cell_type": "markdown",
   "metadata": {},
   "source": [
    "Since, this is the dataset of a car. Hence, we are making an assumption that seat count and door count have maximum values of 9 and 5 respectively."
   ]
  },
  {
   "cell_type": "code",
   "execution_count": 110,
   "metadata": {},
   "outputs": [],
   "source": [
    "df_sc = df['seat_count'].apply(lambda x: np.nan if x > 10 else x)\n",
    "df_dc = df['door_count'].apply(lambda x: np.nan if x > 6 else x)"
   ]
  },
  {
   "cell_type": "code",
   "execution_count": 111,
   "metadata": {},
   "outputs": [
    {
     "name": "stdout",
     "output_type": "stream",
     "text": [
      "\n",
      "For maker column\n",
      " ==============================\n",
      "skoda            313830\n",
      "volkswagen       297256\n",
      "bmw              266731\n",
      "mercedes-benz    251966\n",
      "audi             248602\n",
      "ford             240556\n",
      "opel             217708\n",
      "fiat             132669\n",
      "citroen          121913\n",
      "renault          106831\n",
      "peugeot           92130\n",
      "hyundai           80602\n",
      "seat              74645\n",
      "toyota            72908\n",
      "nissan            68008\n",
      "kia               48607\n",
      "volvo             48271\n",
      "mazda             45666\n",
      "mini              35678\n",
      "smart             32918\n",
      "suzuki            31184\n",
      "mitsubishi        28463\n",
      "honda             26225\n",
      "porsche           24317\n",
      "chevrolet         20856\n",
      "rover             20611\n",
      "jeep              17075\n",
      "lancia            13759\n",
      "subaru            10107\n",
      "jaguar            10056\n",
      "chrysler           9296\n",
      "dodge              5223\n",
      "alfa-romeo         4734\n",
      "lexus              3911\n",
      "dacia              2024\n",
      "maserati           1912\n",
      "land-rover         1721\n",
      "isuzu              1427\n",
      "bentley            1081\n",
      "hummer              731\n",
      "lamborghini         554\n",
      "infinity            506\n",
      "lotus               426\n",
      "tesla               235\n",
      "rolls-royce          46\n",
      "aston-martin         22\n",
      "Name: maker, dtype: int64\n",
      "\n",
      "For model column\n",
      " ==============================\n",
      "octavia       129563\n",
      "fabia          91401\n",
      "golf           91234\n",
      "focus          61137\n",
      "astra          58376\n",
      "               ...  \n",
      "cls250-cdi         1\n",
      "stanza             1\n",
      "225d               1\n",
      "125d               1\n",
      "ml250-cdi          1\n",
      "Name: model, Length: 1012, dtype: int64\n",
      "\n",
      "For mileage column\n",
      " ==============================\n",
      "0.0         162393\n",
      "10.0        107072\n",
      "1.0          34690\n",
      "100.0        25844\n",
      "5.0          21051\n",
      "             ...  \n",
      "243886.0         1\n",
      "243887.0         1\n",
      "243889.0         1\n",
      "243892.0         1\n",
      "276889.0         1\n",
      "Name: mileage, Length: 248142, dtype: int64\n",
      "\n",
      "For manufacture_year column\n",
      " ==============================\n",
      "2015.0    441383\n",
      "2012.0    246152\n",
      "2011.0    219843\n",
      "2014.0    201342\n",
      "2013.0    165305\n",
      "           ...  \n",
      "1544.0         1\n",
      "1549.0         1\n",
      "1555.0         1\n",
      "1557.0         1\n",
      "1553.0         1\n",
      "Name: manufacture_year, Length: 1640, dtype: int64\n",
      "\n",
      "For engine_displacement column\n",
      " ==============================\n",
      "1968.0    215375\n",
      "1598.0    208528\n",
      "1995.0    112588\n",
      "1560.0     77824\n",
      "1197.0     76250\n",
      "           ...  \n",
      "8682.0         1\n",
      "8660.0         1\n",
      "8640.0         1\n",
      "8612.0         1\n",
      "2.0            1\n",
      "Name: engine_displacement, Length: 7272, dtype: int64\n",
      "\n",
      "For engine_power column\n",
      " ==============================\n",
      "103.0    167081\n",
      "110.0    163112\n",
      "77.0     150875\n",
      "66.0     145297\n",
      "55.0     126331\n",
      "          ...  \n",
      "796.0         1\n",
      "800.0         1\n",
      "802.0         1\n",
      "805.0         1\n",
      "511.0         1\n",
      "Name: engine_power, Length: 641, dtype: int64\n",
      "\n",
      "For body_type column\n",
      " ==============================\n",
      "other           1964289\n",
      "compact          241948\n",
      "coupe             70576\n",
      "stationwagon      69895\n",
      "van               31300\n",
      "offroad           22549\n",
      "sedan             19669\n",
      "convertible        5332\n",
      "transporter        4440\n",
      "Name: body_type, dtype: int64\n",
      "\n",
      "For stk_year column\n",
      " ==============================\n",
      "None      1308651\n",
      "2018.0     169746\n",
      "2017.0     142800\n",
      "2016.0      98793\n",
      "2019.0      41482\n",
      "           ...   \n",
      "7500            1\n",
      "7282.0          1\n",
      "7279.0          1\n",
      "7250.0          1\n",
      "7223.0          1\n",
      "Name: stk_year, Length: 298, dtype: int64\n",
      "\n",
      "For transmission column\n",
      " ==============================\n",
      "man     2021990\n",
      "auto     789292\n",
      "Name: transmission, dtype: int64\n",
      "\n",
      "For door_count column\n",
      " ==============================\n",
      "4.0     1130741\n",
      "5.0      894084\n",
      "2.0      307824\n",
      "3.0      120593\n",
      "0.0        8010\n",
      "6.0        1253\n",
      "1.0         273\n",
      "7.0          43\n",
      "55.0          9\n",
      "9.0           4\n",
      "8.0           3\n",
      "58.0          3\n",
      "22.0          1\n",
      "17.0          1\n",
      "77.0          1\n",
      "45.0          1\n",
      "49.0          1\n",
      "54.0          1\n",
      "Name: door_count, dtype: int64\n",
      "\n",
      "For seat_count column\n",
      " ==============================\n",
      "5.0      1767868\n",
      "4.0       244797\n",
      "7.0       100744\n",
      "2.0        72685\n",
      "3.0        33607\n",
      "6.0        14174\n",
      "9.0        12575\n",
      "0.0        11695\n",
      "8.0         6754\n",
      "1.0          567\n",
      "17.0          39\n",
      "10.0          35\n",
      "12.0          31\n",
      "14.0          19\n",
      "15.0          19\n",
      "18.0          16\n",
      "19.0          14\n",
      "21.0          13\n",
      "23.0          13\n",
      "45.0          13\n",
      "20.0          13\n",
      "13.0          10\n",
      "50.0           9\n",
      "16.0           9\n",
      "55.0           8\n",
      "11.0           8\n",
      "57.0           7\n",
      "51.0           7\n",
      "58.0           6\n",
      "56.0           5\n",
      "25.0           4\n",
      "54.0           4\n",
      "52.0           3\n",
      "24.0           3\n",
      "29.0           3\n",
      "81.0           3\n",
      "36.0           3\n",
      "53.0           3\n",
      "512.0          2\n",
      "74.0           2\n",
      "27.0           2\n",
      "49.0           2\n",
      "44.0           2\n",
      "33.0           2\n",
      "32.0           2\n",
      "30.0           2\n",
      "255.0          1\n",
      "43.0           1\n",
      "59.0           1\n",
      "61.0           1\n",
      "65.0           1\n",
      "22.0           1\n",
      "85.0           1\n",
      "517.0          1\n",
      "515.0          1\n",
      "138.0          1\n",
      "26.0           1\n",
      "Name: seat_count, dtype: int64\n",
      "\n",
      "For fuel_type column\n",
      " ==============================\n",
      "gasoline    902222\n",
      "diesel      768207\n",
      "electric     26350\n",
      "lpg           7403\n",
      "cng           1124\n",
      "Name: fuel_type, dtype: int64\n",
      "\n",
      "For date_created column\n",
      " ==============================\n",
      "2016-03-08 20:11:43.695587+00    1\n",
      "2016-03-09 12:06:13.520711+00    1\n",
      "2017-02-07 20:58:18.176958+00    1\n",
      "2016-02-21 01:59:00.034489+00    1\n",
      "2016-11-26 17:42:49.126952+00    1\n",
      "                                ..\n",
      "2015-12-08 21:50:30.013567+00    1\n",
      "2016-02-24 16:40:10.188357+00    1\n",
      "2015-12-29 17:38:53.315807+00    1\n",
      "2016-01-06 18:11:07.635637+00    1\n",
      "2015-12-13 18:06:25.186283+00    1\n",
      "Name: date_created, Length: 3552912, dtype: int64\n",
      "\n",
      "For price_eur column\n",
      " ==============================\n",
      "1295.34     673623\n",
      "9900.00       6609\n",
      "10900.00      6497\n",
      "12900.00      6274\n",
      "11900.00      6169\n",
      "             ...  \n",
      "19978.76         1\n",
      "10202.07         1\n",
      "18884.72         1\n",
      "31003.00         1\n",
      "21798.45         1\n",
      "Name: price_eur, Length: 227305, dtype: int64\n"
     ]
    }
   ],
   "source": [
    "columns = df.columns.values\n",
    "for column in columns:\n",
    "    print(\"\\nFor {0} column\\n\".format(column), \"=\"*30)\n",
    "    print(df[column].value_counts())"
   ]
  },
  {
   "cell_type": "markdown",
   "metadata": {},
   "source": [
    "We can see that most frequent number in seat count and door count are 5 and 4 respectively. So, we are filling the nan values with these values. Along with this, we are also replacing -1, 0 and 1 values with most frequent for door count as well as 0 and 1 value with most frequent for seat count. "
   ]
  },
  {
   "cell_type": "code",
   "execution_count": 112,
   "metadata": {},
   "outputs": [],
   "source": [
    "df_dc = df_dc.fillna(4)\n",
    "df_sc = df_sc.fillna(5)\n",
    "df_dc = df_dc.replace({-1:4, 0:4, 1:4})\n",
    "df_sc = df_sc.replace({0:5, 1:5})"
   ]
  },
  {
   "cell_type": "code",
   "execution_count": 113,
   "metadata": {},
   "outputs": [],
   "source": [
    "df['seat_count'] = df_sc\n",
    "df['door_count'] = df_dc"
   ]
  },
  {
   "cell_type": "markdown",
   "metadata": {},
   "source": [
    "Now, we are filling the nan values of `engine_power` and `mileage` columns by grouping the related columns as follows:"
   ]
  },
  {
   "cell_type": "code",
   "execution_count": 114,
   "metadata": {},
   "outputs": [],
   "source": [
    "df['engine_power'] = df['engine_power'].fillna(df.groupby(['maker', 'manufacture_year', 'mileage', 'model'])['engine_power'].transform('median'))\n",
    "df['engine_power'] = df['engine_power'].fillna(df.groupby(['maker'])['engine_power'].transform('median'))\n",
    "df['engine_power'] = df['engine_power'].fillna(df.groupby(['manufacture_year'])['engine_power'].transform('median'))\n",
    "df['engine_power'] = df['engine_power'].fillna(df.groupby(['mileage'])['engine_power'].transform('median'))\n",
    "df['engine_power'] = df['engine_power'].fillna(df.groupby(['model'])['engine_power'].transform('median'))"
   ]
  },
  {
   "cell_type": "code",
   "execution_count": 115,
   "metadata": {},
   "outputs": [],
   "source": [
    "df['mileage'] = df['mileage'].fillna(df.groupby(['maker', 'manufacture_year', 'model', 'engine_power'])['mileage'].transform(\"median\"))\n",
    "df['mileage'] = df['mileage'].fillna(df.groupby(['maker'])['mileage'].transform(\"median\"))\n",
    "df['mileage'] = df['mileage'].fillna(df.groupby(['manufacture_year'])['mileage'].transform(\"median\"))\n",
    "df['mileage'] = df['mileage'].fillna(df.groupby(['model'])['mileage'].transform(\"median\"))\n",
    "df['mileage'] = df['mileage'].fillna(df.groupby(['engine_power'])['mileage'].transform(\"median\"))"
   ]
  },
  {
   "cell_type": "code",
   "execution_count": 117,
   "metadata": {},
   "outputs": [
    {
     "data": {
      "text/html": [
       "<div>\n",
       "<style scoped>\n",
       "    .dataframe tbody tr th:only-of-type {\n",
       "        vertical-align: middle;\n",
       "    }\n",
       "\n",
       "    .dataframe tbody tr th {\n",
       "        vertical-align: top;\n",
       "    }\n",
       "\n",
       "    .dataframe thead th {\n",
       "        text-align: right;\n",
       "    }\n",
       "</style>\n",
       "<table border=\"1\" class=\"dataframe\">\n",
       "  <thead>\n",
       "    <tr style=\"text-align: right;\">\n",
       "      <th></th>\n",
       "      <th>maker</th>\n",
       "      <th>model</th>\n",
       "      <th>mileage</th>\n",
       "      <th>manufacture_year</th>\n",
       "      <th>engine_displacement</th>\n",
       "      <th>engine_power</th>\n",
       "      <th>body_type</th>\n",
       "      <th>stk_year</th>\n",
       "      <th>transmission</th>\n",
       "      <th>door_count</th>\n",
       "      <th>seat_count</th>\n",
       "      <th>fuel_type</th>\n",
       "      <th>date_created</th>\n",
       "      <th>price_eur</th>\n",
       "    </tr>\n",
       "  </thead>\n",
       "  <tbody>\n",
       "    <tr>\n",
       "      <th>3552907</th>\n",
       "      <td>skoda</td>\n",
       "      <td>roomster</td>\n",
       "      <td>54000.0</td>\n",
       "      <td>2013.0</td>\n",
       "      <td>1200.0</td>\n",
       "      <td>63.0</td>\n",
       "      <td>other</td>\n",
       "      <td>NaN</td>\n",
       "      <td>NaN</td>\n",
       "      <td>4.0</td>\n",
       "      <td>5.0</td>\n",
       "      <td>NaN</td>\n",
       "      <td>2017-03-16 18:57:35.46558+00</td>\n",
       "      <td>1295.34</td>\n",
       "    </tr>\n",
       "    <tr>\n",
       "      <th>3552908</th>\n",
       "      <td>skoda</td>\n",
       "      <td>felicia</td>\n",
       "      <td>138150.0</td>\n",
       "      <td>2000.0</td>\n",
       "      <td>NaN</td>\n",
       "      <td>50.0</td>\n",
       "      <td>other</td>\n",
       "      <td>NaN</td>\n",
       "      <td>NaN</td>\n",
       "      <td>4.0</td>\n",
       "      <td>5.0</td>\n",
       "      <td>electric</td>\n",
       "      <td>2017-03-16 18:57:37.761349+00</td>\n",
       "      <td>1295.34</td>\n",
       "    </tr>\n",
       "    <tr>\n",
       "      <th>3552909</th>\n",
       "      <td>skoda</td>\n",
       "      <td>octavia</td>\n",
       "      <td>230000.0</td>\n",
       "      <td>2006.0</td>\n",
       "      <td>1900.0</td>\n",
       "      <td>100.0</td>\n",
       "      <td>other</td>\n",
       "      <td>NaN</td>\n",
       "      <td>NaN</td>\n",
       "      <td>4.0</td>\n",
       "      <td>5.0</td>\n",
       "      <td>NaN</td>\n",
       "      <td>2017-03-16 18:57:40.435847+00</td>\n",
       "      <td>1295.34</td>\n",
       "    </tr>\n",
       "    <tr>\n",
       "      <th>3552910</th>\n",
       "      <td>skoda</td>\n",
       "      <td>fabia</td>\n",
       "      <td>141235.0</td>\n",
       "      <td>2001.0</td>\n",
       "      <td>NaN</td>\n",
       "      <td>77.0</td>\n",
       "      <td>other</td>\n",
       "      <td>NaN</td>\n",
       "      <td>NaN</td>\n",
       "      <td>4.0</td>\n",
       "      <td>5.0</td>\n",
       "      <td>NaN</td>\n",
       "      <td>2017-03-16 18:57:43.595523+00</td>\n",
       "      <td>1295.34</td>\n",
       "    </tr>\n",
       "    <tr>\n",
       "      <th>3552911</th>\n",
       "      <td>mercedes-benz</td>\n",
       "      <td>NaN</td>\n",
       "      <td>92000.0</td>\n",
       "      <td>NaN</td>\n",
       "      <td>NaN</td>\n",
       "      <td>120.0</td>\n",
       "      <td>other</td>\n",
       "      <td>NaN</td>\n",
       "      <td>NaN</td>\n",
       "      <td>4.0</td>\n",
       "      <td>5.0</td>\n",
       "      <td>NaN</td>\n",
       "      <td>2017-03-16 19:22:23.946774+00</td>\n",
       "      <td>1295.34</td>\n",
       "    </tr>\n",
       "  </tbody>\n",
       "</table>\n",
       "</div>"
      ],
      "text/plain": [
       "                 maker     model   mileage  manufacture_year  \\\n",
       "3552907          skoda  roomster   54000.0            2013.0   \n",
       "3552908          skoda   felicia  138150.0            2000.0   \n",
       "3552909          skoda   octavia  230000.0            2006.0   \n",
       "3552910          skoda     fabia  141235.0            2001.0   \n",
       "3552911  mercedes-benz       NaN   92000.0               NaN   \n",
       "\n",
       "         engine_displacement  engine_power body_type stk_year transmission  \\\n",
       "3552907               1200.0          63.0     other      NaN          NaN   \n",
       "3552908                  NaN          50.0     other      NaN          NaN   \n",
       "3552909               1900.0         100.0     other      NaN          NaN   \n",
       "3552910                  NaN          77.0     other      NaN          NaN   \n",
       "3552911                  NaN         120.0     other      NaN          NaN   \n",
       "\n",
       "         door_count  seat_count fuel_type                   date_created  \\\n",
       "3552907         4.0         5.0       NaN   2017-03-16 18:57:35.46558+00   \n",
       "3552908         4.0         5.0  electric  2017-03-16 18:57:37.761349+00   \n",
       "3552909         4.0         5.0       NaN  2017-03-16 18:57:40.435847+00   \n",
       "3552910         4.0         5.0       NaN  2017-03-16 18:57:43.595523+00   \n",
       "3552911         4.0         5.0       NaN  2017-03-16 19:22:23.946774+00   \n",
       "\n",
       "         price_eur  \n",
       "3552907    1295.34  \n",
       "3552908    1295.34  \n",
       "3552909    1295.34  \n",
       "3552910    1295.34  \n",
       "3552911    1295.34  "
      ]
     },
     "execution_count": 117,
     "metadata": {},
     "output_type": "execute_result"
    }
   ],
   "source": [
    "df.tail()"
   ]
  },
  {
   "cell_type": "code",
   "execution_count": 118,
   "metadata": {},
   "outputs": [
    {
     "data": {
      "text/html": [
       "<div>\n",
       "<style scoped>\n",
       "    .dataframe tbody tr th:only-of-type {\n",
       "        vertical-align: middle;\n",
       "    }\n",
       "\n",
       "    .dataframe tbody tr th {\n",
       "        vertical-align: top;\n",
       "    }\n",
       "\n",
       "    .dataframe thead th {\n",
       "        text-align: right;\n",
       "    }\n",
       "</style>\n",
       "<table border=\"1\" class=\"dataframe\">\n",
       "  <thead>\n",
       "    <tr style=\"text-align: right;\">\n",
       "      <th></th>\n",
       "      <th>mileage</th>\n",
       "      <th>manufacture_year</th>\n",
       "      <th>engine_displacement</th>\n",
       "      <th>engine_power</th>\n",
       "      <th>door_count</th>\n",
       "      <th>seat_count</th>\n",
       "      <th>price_eur</th>\n",
       "    </tr>\n",
       "  </thead>\n",
       "  <tbody>\n",
       "    <tr>\n",
       "      <th>mileage</th>\n",
       "      <td>1.000000</td>\n",
       "      <td>-0.036942</td>\n",
       "      <td>0.093663</td>\n",
       "      <td>-0.012280</td>\n",
       "      <td>0.001577</td>\n",
       "      <td>0.016885</td>\n",
       "      <td>-0.000152</td>\n",
       "    </tr>\n",
       "    <tr>\n",
       "      <th>manufacture_year</th>\n",
       "      <td>-0.036942</td>\n",
       "      <td>1.000000</td>\n",
       "      <td>-0.044598</td>\n",
       "      <td>0.033446</td>\n",
       "      <td>0.016460</td>\n",
       "      <td>-0.006923</td>\n",
       "      <td>-0.000004</td>\n",
       "    </tr>\n",
       "    <tr>\n",
       "      <th>engine_displacement</th>\n",
       "      <td>0.093663</td>\n",
       "      <td>-0.044598</td>\n",
       "      <td>1.000000</td>\n",
       "      <td>0.282297</td>\n",
       "      <td>-0.024624</td>\n",
       "      <td>0.009364</td>\n",
       "      <td>0.003932</td>\n",
       "    </tr>\n",
       "    <tr>\n",
       "      <th>engine_power</th>\n",
       "      <td>-0.012280</td>\n",
       "      <td>0.033446</td>\n",
       "      <td>0.282297</td>\n",
       "      <td>1.000000</td>\n",
       "      <td>-0.057990</td>\n",
       "      <td>-0.027738</td>\n",
       "      <td>0.000160</td>\n",
       "    </tr>\n",
       "    <tr>\n",
       "      <th>door_count</th>\n",
       "      <td>0.001577</td>\n",
       "      <td>0.016460</td>\n",
       "      <td>-0.024624</td>\n",
       "      <td>-0.057990</td>\n",
       "      <td>1.000000</td>\n",
       "      <td>0.349288</td>\n",
       "      <td>-0.000047</td>\n",
       "    </tr>\n",
       "    <tr>\n",
       "      <th>seat_count</th>\n",
       "      <td>0.016885</td>\n",
       "      <td>-0.006923</td>\n",
       "      <td>0.009364</td>\n",
       "      <td>-0.027738</td>\n",
       "      <td>0.349288</td>\n",
       "      <td>1.000000</td>\n",
       "      <td>0.000078</td>\n",
       "    </tr>\n",
       "    <tr>\n",
       "      <th>price_eur</th>\n",
       "      <td>-0.000152</td>\n",
       "      <td>-0.000004</td>\n",
       "      <td>0.003932</td>\n",
       "      <td>0.000160</td>\n",
       "      <td>-0.000047</td>\n",
       "      <td>0.000078</td>\n",
       "      <td>1.000000</td>\n",
       "    </tr>\n",
       "  </tbody>\n",
       "</table>\n",
       "</div>"
      ],
      "text/plain": [
       "                      mileage  manufacture_year  engine_displacement  \\\n",
       "mileage              1.000000         -0.036942             0.093663   \n",
       "manufacture_year    -0.036942          1.000000            -0.044598   \n",
       "engine_displacement  0.093663         -0.044598             1.000000   \n",
       "engine_power        -0.012280          0.033446             0.282297   \n",
       "door_count           0.001577          0.016460            -0.024624   \n",
       "seat_count           0.016885         -0.006923             0.009364   \n",
       "price_eur           -0.000152         -0.000004             0.003932   \n",
       "\n",
       "                     engine_power  door_count  seat_count  price_eur  \n",
       "mileage                 -0.012280    0.001577    0.016885  -0.000152  \n",
       "manufacture_year         0.033446    0.016460   -0.006923  -0.000004  \n",
       "engine_displacement      0.282297   -0.024624    0.009364   0.003932  \n",
       "engine_power             1.000000   -0.057990   -0.027738   0.000160  \n",
       "door_count              -0.057990    1.000000    0.349288  -0.000047  \n",
       "seat_count              -0.027738    0.349288    1.000000   0.000078  \n",
       "price_eur                0.000160   -0.000047    0.000078   1.000000  "
      ]
     },
     "execution_count": 118,
     "metadata": {},
     "output_type": "execute_result"
    }
   ],
   "source": [
    "df.corr()"
   ]
  },
  {
   "cell_type": "markdown",
   "metadata": {},
   "source": [
    "From above table, we can see that, `engine_displacement` column has very good correlation on price of the car. So, we are filling the missing value of this column with groupby function as above."
   ]
  },
  {
   "cell_type": "code",
   "execution_count": 119,
   "metadata": {},
   "outputs": [],
   "source": [
    "df_ed = df['engine_displacement']"
   ]
  },
  {
   "cell_type": "code",
   "execution_count": 120,
   "metadata": {},
   "outputs": [],
   "source": [
    "df_ed = df_ed.fillna(df.groupby(['maker', 'model', 'manufacture_year', 'engine_power'])['engine_displacement'].transform('median'))\n",
    "df_ed = df_ed.fillna(df.groupby(['maker'])['engine_displacement'].transform('median'))\n",
    "df_ed = df_ed.fillna(df.groupby(['model'])['engine_displacement'].transform('median'))\n",
    "df_ed = df_ed.fillna(df.groupby(['manufacture_year'])['engine_displacement'].transform('median'))\n",
    "df_ed = df_ed.fillna(df.groupby(['engine_power'])['engine_displacement'].transform('median'))"
   ]
  },
  {
   "cell_type": "code",
   "execution_count": 121,
   "metadata": {},
   "outputs": [],
   "source": [
    "df['engine_displacement'] = df_ed"
   ]
  },
  {
   "cell_type": "code",
   "execution_count": 122,
   "metadata": {},
   "outputs": [],
   "source": [
    "df_test = df"
   ]
  },
  {
   "cell_type": "code",
   "execution_count": 123,
   "metadata": {},
   "outputs": [],
   "source": [
    "df['manufacture_year'] = df['manufacture_year'].fillna(df.groupby(['maker', 'engine_power', 'mileage', 'model'])['manufacture_year'].transform('median'))\n",
    "df['manufacture_year'] = df['manufacture_year'].fillna(df.groupby(['maker'])['manufacture_year'].transform('median'))\n",
    "df['manufacture_year'] = df['manufacture_year'].fillna(df.groupby(['engine_power'])['manufacture_year'].transform('median'))\n",
    "df['manufacture_year'] = df['manufacture_year'].fillna(df.groupby(['mileage'])['manufacture_year'].transform('median'))\n",
    "df['manufacture_year'] = df['manufacture_year'].fillna(df.groupby(['model'])['manufacture_year'].transform('median'))"
   ]
  },
  {
   "cell_type": "code",
   "execution_count": 124,
   "metadata": {},
   "outputs": [
    {
     "data": {
      "text/plain": [
       "fuel_type              1847606\n",
       "stk_year               1708156\n",
       "model                  1133361\n",
       "body_type              1122914\n",
       "transmission            741630\n",
       "maker                   518915\n",
       "engine_power             31551\n",
       "manufacture_year         31511\n",
       "mileage                  31472\n",
       "engine_displacement      24639\n",
       "price_eur                    0\n",
       "date_created                 0\n",
       "seat_count                   0\n",
       "door_count                   0\n",
       "dtype: int64"
      ]
     },
     "execution_count": 124,
     "metadata": {},
     "output_type": "execute_result"
    }
   ],
   "source": [
    "df.isnull().sum().sort_values(ascending=False)"
   ]
  },
  {
   "cell_type": "code",
   "execution_count": 125,
   "metadata": {},
   "outputs": [],
   "source": [
    "df['fuel_type'] = df['fuel_type'].fillna('gasoline')"
   ]
  },
  {
   "cell_type": "code",
   "execution_count": 139,
   "metadata": {},
   "outputs": [],
   "source": [
    "df['stk_year'] = df['stk_year'].fillna(2018)\n",
    "df['stk_year'] = df['stk_year'].replace({'None': 2018})\n",
    "df['body_type'] = df['body_type'].fillna('other')\n",
    "df['transmission'] = df['transmission'].fillna('man')\n",
    "df['maker'] = df['maker'].fillna('skoda')\n",
    "df['model'] = df['model'].fillna('octavia')"
   ]
  },
  {
   "cell_type": "code",
   "execution_count": 127,
   "metadata": {},
   "outputs": [
    {
     "data": {
      "text/plain": [
       "engine_power           31551\n",
       "manufacture_year       31511\n",
       "mileage                31472\n",
       "engine_displacement    24639\n",
       "price_eur                  0\n",
       "date_created               0\n",
       "fuel_type                  0\n",
       "seat_count                 0\n",
       "door_count                 0\n",
       "transmission               0\n",
       "stk_year                   0\n",
       "body_type                  0\n",
       "model                      0\n",
       "maker                      0\n",
       "dtype: int64"
      ]
     },
     "execution_count": 127,
     "metadata": {},
     "output_type": "execute_result"
    }
   ],
   "source": [
    "df.isnull().sum().sort_values(ascending=False)"
   ]
  },
  {
   "cell_type": "code",
   "execution_count": 128,
   "metadata": {},
   "outputs": [],
   "source": [
    "df['engine_power'] = df['engine_power'].fillna(df['engine_power'].mean())"
   ]
  },
  {
   "cell_type": "code",
   "execution_count": 145,
   "metadata": {},
   "outputs": [],
   "source": [
    "df['manufacture_year'] = df['manufacture_year'].fillna(df['manufacture_year'].mode()[0])"
   ]
  },
  {
   "cell_type": "code",
   "execution_count": 130,
   "metadata": {},
   "outputs": [],
   "source": [
    "df['mileage'] = df['mileage'].fillna(df['mileage'].mean())"
   ]
  },
  {
   "cell_type": "code",
   "execution_count": 131,
   "metadata": {},
   "outputs": [],
   "source": [
    "df['engine_displacement'] = df['engine_displacement'].fillna(df['engine_displacement'].mean())"
   ]
  },
  {
   "cell_type": "code",
   "execution_count": 146,
   "metadata": {},
   "outputs": [
    {
     "data": {
      "text/plain": [
       "price_eur              0\n",
       "date_created           0\n",
       "fuel_type              0\n",
       "seat_count             0\n",
       "door_count             0\n",
       "transmission           0\n",
       "stk_year               0\n",
       "body_type              0\n",
       "engine_power           0\n",
       "engine_displacement    0\n",
       "manufacture_year       0\n",
       "mileage                0\n",
       "model                  0\n",
       "maker                  0\n",
       "dtype: int64"
      ]
     },
     "execution_count": 146,
     "metadata": {},
     "output_type": "execute_result"
    }
   ],
   "source": [
    "df.isnull().sum().sort_values(ascending=False)"
   ]
  },
  {
   "cell_type": "code",
   "execution_count": 148,
   "metadata": {},
   "outputs": [],
   "source": [
    "category_column = []\n",
    "for column in columns:\n",
    "    if df[column].dtypes == 'object':\n",
    "        category_column.append(column)"
   ]
  },
  {
   "cell_type": "code",
   "execution_count": 153,
   "metadata": {},
   "outputs": [],
   "source": [
    "category_column.remove('stk_year')"
   ]
  },
  {
   "cell_type": "code",
   "execution_count": 154,
   "metadata": {},
   "outputs": [],
   "source": [
    "category_column.remove('date_created')"
   ]
  },
  {
   "cell_type": "code",
   "execution_count": 155,
   "metadata": {},
   "outputs": [
    {
     "data": {
      "text/plain": [
       "['maker', 'model', 'body_type', 'transmission', 'fuel_type']"
      ]
     },
     "execution_count": 155,
     "metadata": {},
     "output_type": "execute_result"
    }
   ],
   "source": [
    "category_column"
   ]
  },
  {
   "cell_type": "code",
   "execution_count": 162,
   "metadata": {},
   "outputs": [],
   "source": [
    "df = df.drop('date_created', axis=1)"
   ]
  },
  {
   "cell_type": "code",
   "execution_count": 170,
   "metadata": {},
   "outputs": [],
   "source": [
    "data = df.values"
   ]
  },
  {
   "cell_type": "code",
   "execution_count": 171,
   "metadata": {},
   "outputs": [
    {
     "data": {
      "text/html": [
       "<div>\n",
       "<style scoped>\n",
       "    .dataframe tbody tr th:only-of-type {\n",
       "        vertical-align: middle;\n",
       "    }\n",
       "\n",
       "    .dataframe tbody tr th {\n",
       "        vertical-align: top;\n",
       "    }\n",
       "\n",
       "    .dataframe thead th {\n",
       "        text-align: right;\n",
       "    }\n",
       "</style>\n",
       "<table border=\"1\" class=\"dataframe\">\n",
       "  <thead>\n",
       "    <tr style=\"text-align: right;\">\n",
       "      <th></th>\n",
       "      <th>maker</th>\n",
       "      <th>model</th>\n",
       "      <th>mileage</th>\n",
       "      <th>manufacture_year</th>\n",
       "      <th>engine_displacement</th>\n",
       "      <th>engine_power</th>\n",
       "      <th>body_type</th>\n",
       "      <th>stk_year</th>\n",
       "      <th>transmission</th>\n",
       "      <th>door_count</th>\n",
       "      <th>seat_count</th>\n",
       "      <th>fuel_type</th>\n",
       "      <th>price_eur</th>\n",
       "    </tr>\n",
       "  </thead>\n",
       "  <tbody>\n",
       "    <tr>\n",
       "      <th>0</th>\n",
       "      <td>ford</td>\n",
       "      <td>galaxy</td>\n",
       "      <td>151000.0</td>\n",
       "      <td>2011.0</td>\n",
       "      <td>2000.0</td>\n",
       "      <td>103.0</td>\n",
       "      <td>other</td>\n",
       "      <td>2018</td>\n",
       "      <td>man</td>\n",
       "      <td>5.0</td>\n",
       "      <td>7.0</td>\n",
       "      <td>diesel</td>\n",
       "      <td>10584.75</td>\n",
       "    </tr>\n",
       "    <tr>\n",
       "      <th>1</th>\n",
       "      <td>skoda</td>\n",
       "      <td>octavia</td>\n",
       "      <td>143476.0</td>\n",
       "      <td>2012.0</td>\n",
       "      <td>2000.0</td>\n",
       "      <td>81.0</td>\n",
       "      <td>other</td>\n",
       "      <td>2018</td>\n",
       "      <td>man</td>\n",
       "      <td>5.0</td>\n",
       "      <td>5.0</td>\n",
       "      <td>diesel</td>\n",
       "      <td>8882.31</td>\n",
       "    </tr>\n",
       "    <tr>\n",
       "      <th>2</th>\n",
       "      <td>bmw</td>\n",
       "      <td>octavia</td>\n",
       "      <td>97676.0</td>\n",
       "      <td>2010.0</td>\n",
       "      <td>1995.0</td>\n",
       "      <td>85.0</td>\n",
       "      <td>other</td>\n",
       "      <td>2018</td>\n",
       "      <td>man</td>\n",
       "      <td>5.0</td>\n",
       "      <td>5.0</td>\n",
       "      <td>diesel</td>\n",
       "      <td>12065.06</td>\n",
       "    </tr>\n",
       "    <tr>\n",
       "      <th>3</th>\n",
       "      <td>skoda</td>\n",
       "      <td>fabia</td>\n",
       "      <td>111970.0</td>\n",
       "      <td>2004.0</td>\n",
       "      <td>1200.0</td>\n",
       "      <td>47.0</td>\n",
       "      <td>other</td>\n",
       "      <td>2018</td>\n",
       "      <td>man</td>\n",
       "      <td>5.0</td>\n",
       "      <td>5.0</td>\n",
       "      <td>gasoline</td>\n",
       "      <td>2960.77</td>\n",
       "    </tr>\n",
       "    <tr>\n",
       "      <th>4</th>\n",
       "      <td>skoda</td>\n",
       "      <td>fabia</td>\n",
       "      <td>128886.0</td>\n",
       "      <td>2004.0</td>\n",
       "      <td>1200.0</td>\n",
       "      <td>47.0</td>\n",
       "      <td>other</td>\n",
       "      <td>2018</td>\n",
       "      <td>man</td>\n",
       "      <td>5.0</td>\n",
       "      <td>5.0</td>\n",
       "      <td>gasoline</td>\n",
       "      <td>2738.71</td>\n",
       "    </tr>\n",
       "  </tbody>\n",
       "</table>\n",
       "</div>"
      ],
      "text/plain": [
       "   maker    model   mileage  manufacture_year  engine_displacement  \\\n",
       "0   ford   galaxy  151000.0            2011.0               2000.0   \n",
       "1  skoda  octavia  143476.0            2012.0               2000.0   \n",
       "2    bmw  octavia   97676.0            2010.0               1995.0   \n",
       "3  skoda    fabia  111970.0            2004.0               1200.0   \n",
       "4  skoda    fabia  128886.0            2004.0               1200.0   \n",
       "\n",
       "   engine_power body_type stk_year transmission  door_count  seat_count  \\\n",
       "0         103.0     other     2018          man         5.0         7.0   \n",
       "1          81.0     other     2018          man         5.0         5.0   \n",
       "2          85.0     other     2018          man         5.0         5.0   \n",
       "3          47.0     other     2018          man         5.0         5.0   \n",
       "4          47.0     other     2018          man         5.0         5.0   \n",
       "\n",
       "  fuel_type  price_eur  \n",
       "0    diesel   10584.75  \n",
       "1    diesel    8882.31  \n",
       "2    diesel   12065.06  \n",
       "3  gasoline    2960.77  \n",
       "4  gasoline    2738.71  "
      ]
     },
     "execution_count": 171,
     "metadata": {},
     "output_type": "execute_result"
    }
   ],
   "source": [
    "df.head()"
   ]
  },
  {
   "cell_type": "code",
   "execution_count": 172,
   "metadata": {},
   "outputs": [],
   "source": [
    "columns_index = [0, 1, 6, 8, 11]"
   ]
  },
  {
   "cell_type": "code",
   "execution_count": 173,
   "metadata": {},
   "outputs": [],
   "source": [
    "from sklearn.preprocessing import LabelEncoder"
   ]
  },
  {
   "cell_type": "code",
   "execution_count": 174,
   "metadata": {},
   "outputs": [],
   "source": [
    "for column in columns_index:\n",
    "    model_encoder = LabelEncoder()\n",
    "    data[:, column] = model_encoder.fit_transform(data[:, column])"
   ]
  },
  {
   "cell_type": "code",
   "execution_count": 175,
   "metadata": {},
   "outputs": [
    {
     "data": {
      "text/plain": [
       "array([[11, 484, 151000.0, ..., 7.0, 1, 10584.75],\n",
       "       [38, 679, 143476.0, ..., 5.0, 1, 8882.31],\n",
       "       [4, 679, 97676.0, ..., 5.0, 1, 12065.06],\n",
       "       ...,\n",
       "       [38, 679, 230000.0, ..., 5.0, 3, 1295.34],\n",
       "       [38, 450, 141235.0, ..., 5.0, 3, 1295.34],\n",
       "       [27, 679, 92000.0, ..., 5.0, 3, 1295.34]], dtype=object)"
      ]
     },
     "execution_count": 175,
     "metadata": {},
     "output_type": "execute_result"
    }
   ],
   "source": [
    "data"
   ]
  },
  {
   "cell_type": "code",
   "execution_count": 176,
   "metadata": {},
   "outputs": [],
   "source": [
    "X = data[:, :-1]\n",
    "Y = data[:, -1]"
   ]
  },
  {
   "cell_type": "code",
   "execution_count": 179,
   "metadata": {},
   "outputs": [
    {
     "data": {
      "text/plain": [
       "(3552912, 12)"
      ]
     },
     "execution_count": 179,
     "metadata": {},
     "output_type": "execute_result"
    }
   ],
   "source": [
    "X.shape"
   ]
  },
  {
   "cell_type": "code",
   "execution_count": 180,
   "metadata": {},
   "outputs": [
    {
     "data": {
      "text/plain": [
       "(3552912,)"
      ]
     },
     "execution_count": 180,
     "metadata": {},
     "output_type": "execute_result"
    }
   ],
   "source": [
    "Y.shape"
   ]
  }
 ],
 "metadata": {
  "kernelspec": {
   "display_name": "Python 3",
   "language": "python",
   "name": "python3"
  },
  "language_info": {
   "codemirror_mode": {
    "name": "ipython",
    "version": 3
   },
   "file_extension": ".py",
   "mimetype": "text/x-python",
   "name": "python",
   "nbconvert_exporter": "python",
   "pygments_lexer": "ipython3",
   "version": "3.6.9"
  }
 },
 "nbformat": 4,
 "nbformat_minor": 4
}
